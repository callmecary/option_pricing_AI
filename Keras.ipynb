{
 "cells": [
  {
   "cell_type": "code",
   "execution_count": 1,
   "metadata": {
    "collapsed": true,
    "scrolled": true
   },
   "outputs": [],
   "source": [
    "import pandas as pd\n",
    "training_data_df = pd.read_csv('keras_train.csv')\n",
    "testing_data_df = pd.read_csv('keras_test.csv')"
   ]
  },
  {
   "cell_type": "code",
   "execution_count": 2,
   "metadata": {},
   "outputs": [
    {
     "name": "stdout",
     "output_type": "stream",
     "text": [
      "mutiplying by 0.0214224507 and adding 0.000000\n"
     ]
    }
   ],
   "source": [
    "from sklearn.preprocessing import MinMaxScaler\n",
    "scaler = MinMaxScaler(feature_range=(0,1))\n",
    "scaled_training = scaler.fit_transform(training_data_df)\n",
    "scaled_testing = scaler.transform(testing_data_df)\n",
    "\n",
    "print(\"mutiplying by {:.10f} and adding {:.6f}\".format(scaler.scale_[6],scaler.min_[6]))\n"
   ]
  },
  {
   "cell_type": "code",
   "execution_count": 3,
   "metadata": {
    "collapsed": true
   },
   "outputs": [],
   "source": [
    "scaled_training_df = pd.DataFrame(scaled_training,columns=training_data_df.columns.values)\n",
    "scaled_testing_df = pd.DataFrame(scaled_testing,columns=testing_data_df.columns.values)\n",
    "\n",
    "scaled_training_df.to_csv(\"Options_data_training_scaled.csv\", index=False)\n",
    "scaled_testing_df.to_csv(\"Options_data_testing_scaled.csv\", index=False)"
   ]
  },
  {
   "cell_type": "code",
   "execution_count": 4,
   "metadata": {},
   "outputs": [
    {
     "name": "stderr",
     "output_type": "stream",
     "text": [
      "Using TensorFlow backend.\n"
     ]
    }
   ],
   "source": [
    "import pandas as pd\n",
    "from keras.models import Sequential\n",
    "from keras.layers import *\n",
    "\n",
    "training_data_df = pd.read_csv(\"Options_data_training_scaled.csv\")\n",
    "X = training_data_df.drop('premium',axis=1).values\n",
    "Y = training_data_df[['premium']].values"
   ]
  },
  {
   "cell_type": "code",
   "execution_count": 5,
   "metadata": {
    "collapsed": true
   },
   "outputs": [],
   "source": [
    "model = Sequential()\n",
    "model.add(Dense(50,input_dim=6,activation='relu'))\n",
    "model.add(Dense(100,activation='relu'))\n",
    "model.add(Dense(100,activation='relu'))\n",
    "model.add(Dense(50,activation='relu'))\n",
    "model.add(Dense(1,activation='linear'))\n",
    "model.compile(loss='mean_squared_error',optimizer='adam')"
   ]
  },
  {
   "cell_type": "code",
   "execution_count": 6,
   "metadata": {
    "scrolled": true
   },
   "outputs": [
    {
     "name": "stdout",
     "output_type": "stream",
     "text": [
      "Epoch 1/100\n",
      "8s - loss: 9.0673e-05\n",
      "Epoch 2/100\n",
      "7s - loss: 1.8535e-05\n",
      "Epoch 3/100\n",
      "7s - loss: 1.3472e-05\n",
      "Epoch 4/100\n",
      "7s - loss: 9.0348e-06\n",
      "Epoch 5/100\n",
      "7s - loss: 5.8720e-06\n",
      "Epoch 6/100\n",
      "7s - loss: 5.5534e-06\n",
      "Epoch 7/100\n",
      "7s - loss: 3.8747e-06\n",
      "Epoch 8/100\n",
      "7s - loss: 3.6130e-06\n",
      "Epoch 9/100\n",
      "7s - loss: 3.9448e-06\n",
      "Epoch 10/100\n",
      "8s - loss: 4.7889e-06\n",
      "Epoch 11/100\n",
      "7s - loss: 2.4346e-06\n",
      "Epoch 12/100\n",
      "7s - loss: 2.8602e-06\n",
      "Epoch 13/100\n",
      "7s - loss: 3.1716e-06\n",
      "Epoch 14/100\n",
      "7s - loss: 2.6709e-06\n",
      "Epoch 15/100\n",
      "7s - loss: 2.1492e-06\n",
      "Epoch 16/100\n",
      "7s - loss: 2.3516e-06\n",
      "Epoch 17/100\n",
      "7s - loss: 2.0371e-06\n",
      "Epoch 18/100\n",
      "7s - loss: 1.6509e-06\n",
      "Epoch 19/100\n",
      "7s - loss: 2.2029e-06\n",
      "Epoch 20/100\n",
      "7s - loss: 2.0024e-06\n",
      "Epoch 21/100\n",
      "8s - loss: 1.7188e-06\n",
      "Epoch 22/100\n",
      "7s - loss: 1.6902e-06\n",
      "Epoch 23/100\n",
      "7s - loss: 1.3861e-06\n",
      "Epoch 24/100\n",
      "8s - loss: 1.5721e-06\n",
      "Epoch 25/100\n",
      "8s - loss: 1.7220e-06\n",
      "Epoch 26/100\n",
      "8s - loss: 1.4113e-06\n",
      "Epoch 27/100\n",
      "8s - loss: 1.5883e-06\n",
      "Epoch 28/100\n",
      "7s - loss: 2.4205e-06\n",
      "Epoch 29/100\n",
      "8s - loss: 1.8479e-06\n",
      "Epoch 30/100\n",
      "7s - loss: 1.4286e-06\n",
      "Epoch 31/100\n",
      "7s - loss: 1.6934e-06\n",
      "Epoch 32/100\n",
      "8s - loss: 2.2060e-06\n",
      "Epoch 33/100\n",
      "7s - loss: 1.2316e-06\n",
      "Epoch 34/100\n",
      "7s - loss: 1.4539e-06\n",
      "Epoch 35/100\n",
      "7s - loss: 1.5388e-06\n",
      "Epoch 36/100\n",
      "7s - loss: 1.2261e-06\n",
      "Epoch 37/100\n",
      "7s - loss: 1.6220e-06\n",
      "Epoch 38/100\n",
      "7s - loss: 1.0268e-06\n",
      "Epoch 39/100\n",
      "7s - loss: 1.3928e-06\n",
      "Epoch 40/100\n",
      "7s - loss: 1.3683e-06\n",
      "Epoch 41/100\n",
      "7s - loss: 1.7819e-06\n",
      "Epoch 42/100\n",
      "7s - loss: 1.2005e-06\n",
      "Epoch 43/100\n",
      "7s - loss: 1.3826e-06\n",
      "Epoch 44/100\n",
      "7s - loss: 1.2627e-06\n",
      "Epoch 45/100\n",
      "7s - loss: 1.4875e-06\n",
      "Epoch 46/100\n",
      "7s - loss: 1.2616e-06\n",
      "Epoch 47/100\n",
      "7s - loss: 1.3410e-06\n",
      "Epoch 48/100\n",
      "7s - loss: 1.2437e-06\n",
      "Epoch 49/100\n",
      "7s - loss: 1.0290e-06\n",
      "Epoch 50/100\n",
      "7s - loss: 1.2564e-06\n",
      "Epoch 51/100\n",
      "7s - loss: 1.1663e-06\n",
      "Epoch 52/100\n",
      "7s - loss: 1.1120e-06\n",
      "Epoch 53/100\n",
      "7s - loss: 1.0178e-06\n",
      "Epoch 54/100\n",
      "7s - loss: 9.7988e-07\n",
      "Epoch 55/100\n",
      "7s - loss: 1.0006e-06\n",
      "Epoch 56/100\n",
      "7s - loss: 1.2605e-06\n",
      "Epoch 57/100\n",
      "7s - loss: 1.0457e-06\n",
      "Epoch 58/100\n",
      "7s - loss: 1.2577e-06\n",
      "Epoch 59/100\n",
      "7s - loss: 1.0062e-06\n",
      "Epoch 60/100\n",
      "7s - loss: 1.2128e-06\n",
      "Epoch 61/100\n",
      "7s - loss: 1.0806e-06\n",
      "Epoch 62/100\n",
      "7s - loss: 9.5762e-07\n",
      "Epoch 63/100\n",
      "8s - loss: 1.0945e-06\n",
      "Epoch 64/100\n",
      "7s - loss: 9.0654e-07\n",
      "Epoch 65/100\n",
      "8s - loss: 1.0002e-06\n",
      "Epoch 66/100\n",
      "7s - loss: 1.1876e-06\n",
      "Epoch 67/100\n",
      "7s - loss: 1.3397e-06\n",
      "Epoch 68/100\n",
      "7s - loss: 1.3893e-06\n",
      "Epoch 69/100\n",
      "7s - loss: 1.0996e-06\n",
      "Epoch 70/100\n",
      "7s - loss: 1.1055e-06\n",
      "Epoch 71/100\n",
      "7s - loss: 8.3131e-07\n",
      "Epoch 72/100\n",
      "7s - loss: 1.1380e-06\n",
      "Epoch 73/100\n",
      "7s - loss: 1.1821e-06\n",
      "Epoch 74/100\n",
      "8s - loss: 6.8900e-07\n",
      "Epoch 75/100\n",
      "7s - loss: 9.6809e-07\n",
      "Epoch 76/100\n",
      "7s - loss: 7.6767e-07\n",
      "Epoch 77/100\n",
      "7s - loss: 1.0150e-06\n",
      "Epoch 78/100\n",
      "7s - loss: 8.2008e-07\n",
      "Epoch 79/100\n",
      "8s - loss: 7.0908e-07\n",
      "Epoch 80/100\n",
      "7s - loss: 8.7357e-07\n",
      "Epoch 81/100\n",
      "8s - loss: 6.0315e-07\n",
      "Epoch 82/100\n",
      "7s - loss: 7.7744e-07\n",
      "Epoch 83/100\n",
      "8s - loss: 8.5163e-07\n",
      "Epoch 84/100\n",
      "7s - loss: 6.4244e-07\n",
      "Epoch 85/100\n",
      "8s - loss: 6.9655e-07\n",
      "Epoch 86/100\n",
      "7s - loss: 7.1773e-07\n",
      "Epoch 87/100\n",
      "7s - loss: 7.6963e-07\n",
      "Epoch 88/100\n",
      "7s - loss: 6.3050e-07\n",
      "Epoch 89/100\n",
      "7s - loss: 7.0554e-07\n",
      "Epoch 90/100\n",
      "7s - loss: 6.4763e-07\n",
      "Epoch 91/100\n",
      "7s - loss: 7.0107e-07\n",
      "Epoch 92/100\n",
      "7s - loss: 5.4560e-07\n",
      "Epoch 93/100\n",
      "7s - loss: 7.8918e-07\n",
      "Epoch 94/100\n",
      "7s - loss: 6.0087e-07\n",
      "Epoch 95/100\n",
      "7s - loss: 6.8733e-07\n",
      "Epoch 96/100\n",
      "7s - loss: 5.5152e-07\n",
      "Epoch 97/100\n",
      "7s - loss: 6.2922e-07\n",
      "Epoch 98/100\n",
      "7s - loss: 7.5428e-07\n",
      "Epoch 99/100\n",
      "7s - loss: 6.6508e-07\n",
      "Epoch 100/100\n",
      "7s - loss: 6.8450e-07\n",
      "The mean squared error (MSE) for the test data set is: 1.2791441238835686e-05\n"
     ]
    }
   ],
   "source": [
    "# Train the model\n",
    "model.fit(\n",
    "    X,\n",
    "    Y,\n",
    "    epochs=100,\n",
    "    shuffle=True,\n",
    "    verbose=2\n",
    ")\n",
    "\n",
    "#Load the separate test dataset\n",
    "test_data_df = pd.read_csv(\"Options_data_testing_scaled.csv\")\n",
    "X_test = test_data_df.drop('premium',axis=1).values\n",
    "Y_test = test_data_df[['premium']].values\n",
    "\n",
    "test_error_rate = model.evaluate(X_test, Y_test, verbose=0)\n",
    "print(\"The mean squared error (MSE) for the test data set is: {}\".format(test_error_rate))"
   ]
  },
  {
   "cell_type": "code",
   "execution_count": 8,
   "metadata": {
    "scrolled": true
   },
   "outputs": [
    {
     "name": "stdout",
     "output_type": "stream",
     "text": [
      "Predicted premium is  $[[ 0.01218562]\n",
      " [ 0.01218562]\n",
      " [ 0.01218562]\n",
      " ..., \n",
      " [ 0.51308346]\n",
      " [ 0.51308346]\n",
      " [ 0.51308346]]\n"
     ]
    }
   ],
   "source": [
    "# Load the data we make to use to make a prediction\n",
    "new_option_df = pd.read_csv(\"keras_evaluation.csv\")\n",
    "new_option_scaled = scaler.transform(new_option_df)\n",
    "scaled_evaluation_df = pd.DataFrame(new_option_scaled,columns=new_option_df.columns.values)\n",
    "\n",
    "X = scaled_evaluation_df.drop('premium',axis=1).values\n",
    "\n",
    "prediction = model.predict(X)\n",
    "\n",
    "#prediction = prediction[0][0]\n",
    "#prediction = scaler.inverse_transform(prediction)\n",
    "prediction = prediction - scaler.min_[6]\n",
    "prediction = prediction / scaler.scale_[6] \n",
    "\n",
    "print(\"Predicted premium is  ${}\".format(prediction))"
   ]
  },
  {
   "cell_type": "code",
   "execution_count": 9,
   "metadata": {
    "collapsed": true
   },
   "outputs": [],
   "source": [
    "model.save('trained_model.h5')"
   ]
  }
 ],
 "metadata": {
  "anaconda-cloud": {},
  "kernelspec": {
   "display_name": "Python 3",
   "language": "python",
   "name": "python3"
  },
  "language_info": {
   "codemirror_mode": {
    "name": "ipython",
    "version": 3
   },
   "file_extension": ".py",
   "mimetype": "text/x-python",
   "name": "python",
   "nbconvert_exporter": "python",
   "pygments_lexer": "ipython3",
   "version": "3.5.2"
  }
 },
 "nbformat": 4,
 "nbformat_minor": 2
}
